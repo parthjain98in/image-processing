{
 "cells": [
  {
   "cell_type": "markdown",
   "metadata": {},
   "source": [
    "# Component Labelling Algorithm"
   ]
  },
  {
   "cell_type": "code",
   "execution_count": 1,
   "metadata": {},
   "outputs": [],
   "source": [
    "import numpy as np\n",
    "import matplotlib.pyplot as plt"
   ]
  },
  {
   "cell_type": "code",
   "execution_count": 2,
   "metadata": {
    "scrolled": true
   },
   "outputs": [],
   "source": [
    "dim = (20, 20)\n",
    "img = np.zeros(dim).astype(int)\n",
    "\n",
    "# shape creation\n",
    "img[3:10, 2:4] = 1\n",
    "img[8:10, 2:10] = 1\n",
    "img[3:10, 9:10] = 1\n",
    "\n",
    "img[12:14, 11:13] = 1\n",
    "\n",
    "img[15:19, 15:18] = 1"
   ]
  },
  {
   "cell_type": "code",
   "execution_count": 3,
   "metadata": {},
   "outputs": [
    {
     "data": {
      "text/plain": [
       "<matplotlib.image.AxesImage at 0x7f3545858710>"
      ]
     },
     "execution_count": 3,
     "metadata": {},
     "output_type": "execute_result"
    },
    {
     "data": {
      "image/png": "[encoded data removed]",
      "text/plain": [
       "<Figure size 432x288 with 1 Axes>"
      ]
     },
     "metadata": {
      "needs_background": "light"
     },
     "output_type": "display_data"
    }
   ],
   "source": [
    "plt.imshow(img, cmap=\"Greys\")"
   ]
  },
  {
   "cell_type": "code",
   "execution_count": 4,
   "metadata": {},
   "outputs": [],
   "source": [
    "def component_labelling(inputimp):\n",
    "    color_map = {}\n",
    "    label = 1\n",
    "    \n",
    "    img = inputimp.copy()\n",
    "    \n",
    "    def up(i, j):\n",
    "        if (i == 0):\n",
    "            return 0\n",
    "        else:\n",
    "            return img[i - 1][j]\n",
    "        \n",
    "    def left(i, j):\n",
    "        if (j == 0):\n",
    "            return 0\n",
    "        else:\n",
    "            return img[i][j - 1]\n",
    "    \n",
    "    # First\n",
    "    for i in range(img.shape[0]):\n",
    "        for j in range(img.shape[1]):\n",
    "            \n",
    "            if img[i][j] == 0:\n",
    "                continue\n",
    "            # new encounter\n",
    "            if (up(i, j) == 0 and left(i, j) == 0):\n",
    "                img[i][j] = label\n",
    "                label += 1\n",
    "            # top touch\n",
    "            elif (up(i, j) != 0 and left(i, j) == 0):\n",
    "                img[i][j] = img[i - 1][j]\n",
    "            # left touch\n",
    "            elif (up(i, j) == 0 and left(i, j) != 0):\n",
    "                img[i][j] = img[i][j - 1]\n",
    "            # both touch\n",
    "            else:\n",
    "            #    if (a != b)\n",
    "                a = img[i - 1][j]\n",
    "                b = img[i][j - 1]\n",
    "                if (a != b):\n",
    "                    a, b = min(a, b),max(a, b)\n",
    "                    color_map[b] = a # precomputation for second pass\n",
    "                img[i][j] = a\n",
    "    \n",
    "    # Second\n",
    "    for i in range(img.shape[0]):\n",
    "        for j in range(img.shape[1]):\n",
    "            \n",
    "            p = img[i][j]\n",
    "            \n",
    "            if p in color_map.keys():\n",
    "                img[i][j] = color_map[p]\n",
    "    \n",
    "    return img"
   ]
  },
  {
   "cell_type": "code",
   "execution_count": 5,
   "metadata": {},
   "outputs": [],
   "source": [
    "img = component_labelling(img)"
   ]
  },
  {
   "cell_type": "code",
   "execution_count": 6,
   "metadata": {},
   "outputs": [],
   "source": [
    "color = np.zeros(img.shape + (3,)).astype(int)\n",
    "colors = { 0: [255, 255, 255] }\n",
    "\n",
    "for i in range(img.shape[0]):\n",
    "        for j in range(img.shape[1]):\n",
    "            \n",
    "            val = img[i][j]\n",
    "            \n",
    "            if val in colors.keys():\n",
    "                color[i][j]  = colors[val]\n",
    "            else:\n",
    "                colors[val] = np.random.randint(0, 255, 3)\n",
    "                color[i][j]  = colors[val]"
   ]
  },
  {
   "cell_type": "code",
   "execution_count": 7,
   "metadata": {},
   "outputs": [
    {
     "data": {
      "text/plain": [
       "<matplotlib.image.AxesImage at 0x7f354577d898>"
      ]
     },
     "execution_count": 7,
     "metadata": {},
     "output_type": "execute_result"
    },
    {
     "data": {
      "image/png": "[encoded data removed]",
      "text/plain": [
       "<Figure size 432x288 with 1 Axes>"
      ]
     },
     "metadata": {
      "needs_background": "light"
     },
     "output_type": "display_data"
    }
   ],
   "source": [
    "plt.imshow(color)"
   ]
  },
  {
   "cell_type": "code",
   "execution_count": null,
   "metadata": {},
   "outputs": [],
   "source": []
  }
 ],
 "metadata": {
  "kernelspec": {
   "display_name": "Python 3",
   "language": "python",
   "name": "python3"
  },
  "language_info": {
   "codemirror_mode": {
    "name": "ipython",
    "version": 3
   },
   "file_extension": ".py",
   "mimetype": "text/x-python",
   "name": "python",
   "nbconvert_exporter": "python",
   "pygments_lexer": "ipython3",
   "version": "3.7.1"
  }
 },
 "nbformat": 4,
 "nbformat_minor": 2
}

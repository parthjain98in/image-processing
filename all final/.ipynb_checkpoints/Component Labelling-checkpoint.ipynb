{
 "cells": [
  {
   "cell_type": "markdown",
   "metadata": {},
   "source": [
    "# Component Labelling Algorithm"
   ]
  },
  {
   "cell_type": "code",
   "execution_count": 1,
   "metadata": {},
   "outputs": [],
   "source": [
    "import numpy as np\n",
    "import matplotlib.pyplot as plt"
   ]
  },
  {
   "cell_type": "code",
   "execution_count": 2,
   "metadata": {},
   "outputs": [
    {
     "name": "stdout",
     "output_type": "stream",
     "text": [
      "[[0 0 0 0 0 0 0 0 0 0 0 0 0 0 0]\n",
      " [0 0 0 1 1 1 1 1 1 1 1 1 0 0 0]\n",
      " [0 0 0 1 1 1 1 1 1 1 1 1 0 0 0]\n",
      " [0 0 0 1 1 1 1 1 1 1 1 1 0 0 0]\n",
      " [0 0 0 1 1 1 1 1 1 1 1 1 0 0 0]\n",
      " [0 0 0 1 1 1 1 1 0 0 0 0 0 0 0]\n",
      " [0 0 0 1 1 1 1 1 0 0 0 0 0 0 0]\n",
      " [0 0 0 1 1 1 1 1 0 0 0 0 0 0 0]\n",
      " [0 0 0 1 1 1 1 1 0 0 1 1 1 0 0]\n",
      " [0 0 0 0 0 0 0 0 0 0 1 1 1 0 0]\n",
      " [0 0 0 0 0 0 0 0 0 0 1 1 1 0 0]\n",
      " [0 0 0 0 0 0 0 0 0 0 0 0 0 0 0]\n",
      " [0 1 1 1 1 1 1 1 1 1 1 1 1 1 0]\n",
      " [0 1 1 1 1 1 1 1 1 1 1 1 1 1 0]\n",
      " [0 0 0 0 0 0 0 0 0 0 0 0 0 0 0]]\n"
     ]
    }
   ],
   "source": [
    "dim = (15, 15)\n",
    "img = np.zeros(dim).astype(int)\n",
    "\n",
    "img[1:9, 3:8] = 1\n",
    "img[1:5, 3:12] = 1\n",
    "\n",
    "img[12:14, 1:14] = 1\n",
    "\n",
    "img[8:11, 10:13] = 1\n",
    "print(img)"
   ]
  },
  {
   "cell_type": "code",
   "execution_count": 3,
   "metadata": {},
   "outputs": [
    {
     "data": {
      "text/plain": [
       "<matplotlib.image.AxesImage at 0x7fad5334d710>"
      ]
     },
     "execution_count": 3,
     "metadata": {},
     "output_type": "execute_result"
    },
    {
     "data": {
      "image/png": "[encoded data removed]",
      "text/plain": [
       "<Figure size 432x288 with 1 Axes>"
      ]
     },
     "metadata": {
      "needs_background": "light"
     },
     "output_type": "display_data"
    }
   ],
   "source": [
    "plt.imshow(img, cmap=\"Greys\")"
   ]
  },
  {
   "cell_type": "code",
   "execution_count": 4,
   "metadata": {},
   "outputs": [],
   "source": [
    "def component_labelling(img_in):\n",
    "    mapping = {}\n",
    "    label = 0\n",
    "    \n",
    "    img = img_in.copy()\n",
    "    \n",
    "    def up(i, j):\n",
    "        if (i == 0):\n",
    "            return 0\n",
    "        else:\n",
    "            return img[i - 1][j]\n",
    "        \n",
    "    def left(i, j):\n",
    "        if (j == 0):\n",
    "            return 0\n",
    "        else:\n",
    "            return img[i][j - 1]\n",
    "    \n",
    "    # First Pass\n",
    "    \n",
    "    for i in range(img.shape[0]):\n",
    "        for j in range(img.shape[1]):\n",
    "            \n",
    "            if img[i][j] == 0:\n",
    "                continue\n",
    "            \n",
    "            if (up(i, j) == 0 and left(i, j) == 0):\n",
    "                label += 1\n",
    "                img[i][j] = label\n",
    "            elif (up(i, j) != 0 and left(i, j) == 0):\n",
    "                img[i][j] = img[i - 1][j]\n",
    "            elif (up(i, j) == 0 and left(i, j) != 0):\n",
    "                img[i][j] = img[i][j - 1]\n",
    "            else:\n",
    "                a = img[i - 1][j]\n",
    "                b = img[i][j - 1]\n",
    "                \n",
    "                a, b = min(a, b), max(a, b)\n",
    "                \n",
    "                mapping[b] = a\n",
    "                \n",
    "                img[i][j] = a\n",
    "    \n",
    "    # Second Pass\n",
    "    \n",
    "    for i in range(img.shape[0]):\n",
    "        for j in range(img.shape[1]):\n",
    "            \n",
    "            p = img[i][j]\n",
    "            \n",
    "            if p in mapping.keys():\n",
    "                img[i][j] = mapping[p]\n",
    "    \n",
    "    return img"
   ]
  },
  {
   "cell_type": "code",
   "execution_count": 5,
   "metadata": {},
   "outputs": [
    {
     "name": "stdout",
     "output_type": "stream",
     "text": [
      "[[0 0 0 0 0 0 0 0 0 0 0 0 0 0 0]\n",
      " [0 0 0 1 1 1 1 1 1 1 1 1 0 0 0]\n",
      " [0 0 0 1 1 1 1 1 1 1 1 1 0 0 0]\n",
      " [0 0 0 1 1 1 1 1 1 1 1 1 0 0 0]\n",
      " [0 0 0 1 1 1 1 1 1 1 1 1 0 0 0]\n",
      " [0 0 0 1 1 1 1 1 0 0 0 0 0 0 0]\n",
      " [0 0 0 1 1 1 1 1 0 0 0 0 0 0 0]\n",
      " [0 0 0 1 1 1 1 1 0 0 0 0 0 0 0]\n",
      " [0 0 0 1 1 1 1 1 0 0 2 2 2 0 0]\n",
      " [0 0 0 0 0 0 0 0 0 0 2 2 2 0 0]\n",
      " [0 0 0 0 0 0 0 0 0 0 2 2 2 0 0]\n",
      " [0 0 0 0 0 0 0 0 0 0 0 0 0 0 0]\n",
      " [0 3 3 3 3 3 3 3 3 3 3 3 3 3 0]\n",
      " [0 3 3 3 3 3 3 3 3 3 3 3 3 3 0]\n",
      " [0 0 0 0 0 0 0 0 0 0 0 0 0 0 0]]\n"
     ]
    }
   ],
   "source": [
    "img = component_labelling(img)\n",
    "print(img)"
   ]
  },
  {
   "cell_type": "code",
   "execution_count": 6,
   "metadata": {},
   "outputs": [],
   "source": [
    "color = np.zeros(img.shape + (3, )).astype(int)\n",
    "\n",
    "mapping = { 0: [255, 255, 255] }\n",
    "\n",
    "for i in range(img.shape[0]):\n",
    "        for j in range(img.shape[1]):\n",
    "            \n",
    "            val = img[i][j]\n",
    "            \n",
    "            if val in mapping.keys():\n",
    "                color[i][j]  = mapping[val]\n",
    "            else:\n",
    "                mapping[val] = np.random.randint(0, 255, 3)\n",
    "                color[i][j]  = mapping[val]"
   ]
  },
  {
   "cell_type": "code",
   "execution_count": 7,
   "metadata": {},
   "outputs": [
    {
     "data": {
      "text/plain": [
       "<matplotlib.image.AxesImage at 0x7fad532f97f0>"
      ]
     },
     "execution_count": 7,
     "metadata": {},
     "output_type": "execute_result"
    },
    {
     "data": {
      "image/png": "[encoded data removed]",
      "text/plain": [
       "<Figure size 432x288 with 1 Axes>"
      ]
     },
     "metadata": {
      "needs_background": "light"
     },
     "output_type": "display_data"
    }
   ],
   "source": [
    "plt.imshow(color)"
   ]
  }
 ],
 "metadata": {
  "kernelspec": {
   "display_name": "Python 3",
   "language": "python",
   "name": "python3"
  },
  "language_info": {
   "codemirror_mode": {
    "name": "ipython",
    "version": 3
   },
   "file_extension": ".py",
   "mimetype": "text/x-python",
   "name": "python",
   "nbconvert_exporter": "python",
   "pygments_lexer": "ipython3",
   "version": "3.6.7"
  }
 },
 "nbformat": 4,
 "nbformat_minor": 2
}

{
 "cells": [
  {
   "cell_type": "markdown",
   "metadata": {},
   "source": [
    "# Connected"
   ]
  },
  {
   "cell_type": "code",
   "execution_count": 1,
   "metadata": {},
   "outputs": [],
   "source": [
    "import numpy as np\n",
    "import matplotlib.pyplot as plt"
   ]
  },
  {
   "cell_type": "code",
   "execution_count": 2,
   "metadata": {},
   "outputs": [],
   "source": [
    "dim = (20, 20)\n",
    "img = np.floor(np.random.random(dim) + 0.5)"
   ]
  },
  {
   "cell_type": "code",
   "execution_count": 3,
   "metadata": {},
   "outputs": [
    {
     "data": {
      "text/plain": [
       "<matplotlib.image.AxesImage at 0x7f720c1af588>"
      ]
     },
     "execution_count": 3,
     "metadata": {},
     "output_type": "execute_result"
    },
    {
     "data": {
      "image/png": "[encoded data removed]",
      "text/plain": [
       "<Figure size 432x288 with 1 Axes>"
      ]
     },
     "metadata": {
      "needs_background": "light"
     },
     "output_type": "display_data"
    }
   ],
   "source": [
    "plt.imshow(img)"
   ]
  },
  {
   "cell_type": "code",
   "execution_count": 4,
   "metadata": {},
   "outputs": [],
   "source": [
    "visited = np.zeros(dim, dtype=bool)"
   ]
  },
  {
   "cell_type": "code",
   "execution_count": 5,
   "metadata": {},
   "outputs": [],
   "source": [
    "def four_way(out, i, j, color):\n",
    "    if i < 0 or i >= dim[0]:\n",
    "        return\n",
    "    if j < 0 or j >= dim[1]:\n",
    "        return\n",
    "    if visited[i][j] or img[i][j] == 0:\n",
    "        return\n",
    "    visited[i][j] = True\n",
    "    out[i][j] = color\n",
    "    four_way(out, i - 1, j, color)\n",
    "    four_way(out, i + 1, j, color)\n",
    "    four_way(out, i, j - 1, color)\n",
    "    four_way(out, i, j + 1, color)"
   ]
  },
  {
   "cell_type": "code",
   "execution_count": 6,
   "metadata": {},
   "outputs": [],
   "source": [
    "def eight_way(out, i, j, color):\n",
    "    if i < 0 or i >= dim[0]:\n",
    "        return\n",
    "    if j < 0 or j >= dim[1]:\n",
    "        return\n",
    "    if visited[i][j] or img[i][j] == 0:\n",
    "        return\n",
    "    visited[i][j] = True\n",
    "    out[i][j] = color\n",
    "    eight_way(out,i+1,j+1,color)\n",
    "    eight_way(out,i+1,j,color)\n",
    "    eight_way(out,i+1,j-1,color)\n",
    "    eight_way(out,i,j+1,color)\n",
    "    eight_way(out,i,j-1,color)\n",
    "    eight_way(out,i-1,j+1,color)\n",
    "    eight_way(out,i-1,j,color)\n",
    "    eight_way(out,i-1,j-1,color)"
   ]
  },
  {
   "cell_type": "code",
   "execution_count": 10,
   "metadata": {},
   "outputs": [],
   "source": [
    "def d_way(out, i, j, color):\n",
    "    if i < 0 or i >= dim[0]:\n",
    "        return\n",
    "    if j < 0 or j >= dim[1]:\n",
    "        return\n",
    "    if visited[i][j] or img[i][j] == 0:\n",
    "        return\n",
    "    visited[i][j] = True\n",
    "    out[i][j] = color\n",
    "    \n",
    "    d_way(out,i+1,j-1,color)\n",
    "    d_way(out,i+1,j+1,color)\n",
    "    d_way(out,i-1,j+1,color)\n",
    "    d_way(out,i-1,j+1,color)"
   ]
  },
  {
   "cell_type": "code",
   "execution_count": 7,
   "metadata": {},
   "outputs": [],
   "source": [
    "def assign_color():\n",
    "    color = np.random.randint(0, 255, 3)\n",
    "    while color in usedcolor:\n",
    "        color = np.random.randint(0, 255, 3)\n",
    "    usedcolor.append(color)\n",
    "    return color"
   ]
  },
  {
   "cell_type": "markdown",
   "metadata": {},
   "source": [
    "### Four connected"
   ]
  },
  {
   "cell_type": "code",
   "execution_count": 8,
   "metadata": {},
   "outputs": [
    {
     "data": {
      "text/plain": [
       "<matplotlib.image.AxesImage at 0x7f720c0d7a58>"
      ]
     },
     "execution_count": 8,
     "metadata": {},
     "output_type": "execute_result"
    },
    {
     "data": {
      "image/png": "[encoded data removed]",
      "text/plain": [
       "<Figure size 432x288 with 1 Axes>"
      ]
     },
     "metadata": {
      "needs_background": "light"
     },
     "output_type": "display_data"
    }
   ],
   "source": [
    "out = np.zeros(dim + (3, ), dtype=int)\n",
    "usedcolor = []\n",
    "for i in range(dim[0]):\n",
    "    for j in range(dim[1]):\n",
    "        if visited[i][j]:\n",
    "            continue\n",
    "        color = np.random.randint(0, 255, 3)\n",
    "        four_way(out, i, j, color)\n",
    "plt.imshow(out)"
   ]
  },
  {
   "cell_type": "markdown",
   "metadata": {},
   "source": [
    "### Eight connected"
   ]
  },
  {
   "cell_type": "code",
   "execution_count": 9,
   "metadata": {},
   "outputs": [
    {
     "data": {
      "text/plain": [
       "<matplotlib.image.AxesImage at 0x7f720c050390>"
      ]
     },
     "execution_count": 9,
     "metadata": {},
     "output_type": "execute_result"
    },
    {
     "data": {
      "image/png": "[encoded data removed]",
      "text/plain": [
       "<Figure size 432x288 with 1 Axes>"
      ]
     },
     "metadata": {
      "needs_background": "light"
     },
     "output_type": "display_data"
    }
   ],
   "source": [
    "for i in range(dim[0]):\n",
    "    for j in range(dim[1]):\n",
    "        visited[i][j] = False\n",
    "\n",
    "out = np.zeros(dim + (3, ), dtype=int)\n",
    "\n",
    "for i in range(dim[0]):\n",
    "    for j in range(dim[1]):\n",
    "        if visited[i][j]:\n",
    "            continue\n",
    "        color = np.random.randint(0, 255, 3)\n",
    "        eight_way(out, i, j, color)\n",
    "plt.imshow(out)"
   ]
  },
  {
   "cell_type": "markdown",
   "metadata": {},
   "source": [
    "### Nd connected (diagonals)"
   ]
  },
  {
   "cell_type": "code",
   "execution_count": 11,
   "metadata": {},
   "outputs": [
    {
     "data": {
      "text/plain": [
       "<matplotlib.image.AxesImage at 0x7f720c025d30>"
      ]
     },
     "execution_count": 11,
     "metadata": {},
     "output_type": "execute_result"
    },
    {
     "data": {
      "image/png": "[encoded data removed]",
      "text/plain": [
       "<Figure size 432x288 with 1 Axes>"
      ]
     },
     "metadata": {
      "needs_background": "light"
     },
     "output_type": "display_data"
    }
   ],
   "source": [
    "for i in range(dim[0]):\n",
    "    for j in range(dim[1]):\n",
    "        visited[i][j] = False\n",
    "\n",
    "out = np.zeros(dim + (3, ), dtype=int)\n",
    "\n",
    "for i in range(dim[0]):\n",
    "    for j in range(dim[1]):\n",
    "        if visited[i][j]:\n",
    "            continue\n",
    "        color = np.random.randint(0, 255, 3)\n",
    "        d_way(out, i, j, color)\n",
    "plt.imshow(out)"
   ]
  },
  {
   "cell_type": "code",
   "execution_count": null,
   "metadata": {},
   "outputs": [],
   "source": []
  }
 ],
 "metadata": {
  "kernelspec": {
   "display_name": "Python 3",
   "language": "python",
   "name": "python3"
  },
  "language_info": {
   "codemirror_mode": {
    "name": "ipython",
    "version": 3
   },
   "file_extension": ".py",
   "mimetype": "text/x-python",
   "name": "python",
   "nbconvert_exporter": "python",
   "pygments_lexer": "ipython3",
   "version": "3.7.1"
  }
 },
 "nbformat": 4,
 "nbformat_minor": 2
}
